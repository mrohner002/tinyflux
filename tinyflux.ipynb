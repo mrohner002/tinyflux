{
 "cells": [
  {
   "cell_type": "markdown",
   "metadata": {},
   "source": [
    "# Tinyflux: Example with fictious bank transactions"
   ]
  },
  {
   "cell_type": "code",
   "execution_count": 1,
   "metadata": {
    "tags": []
   },
   "outputs": [],
   "source": [
    "import csv\n",
    "from tinyflux import TinyFlux, Point, FieldQuery, TagQuery, TimeQuery\n",
    "from datetime import datetime, timezone, timedelta"
   ]
  },
  {
   "cell_type": "markdown",
   "metadata": {},
   "source": [
    "## Initialize the TinyFlux database"
   ]
  },
  {
   "cell_type": "code",
   "execution_count": 2,
   "metadata": {},
   "outputs": [],
   "source": [
    "db = TinyFlux(\"swiss_bank_transactions.db\")"
   ]
  },
  {
   "cell_type": "markdown",
   "metadata": {
    "tags": []
   },
   "source": [
    "## Writing a CSV file into Tinyflux"
   ]
  },
  {
   "cell_type": "code",
   "execution_count": 3,
   "metadata": {
    "tags": []
   },
   "outputs": [
    {
     "name": "stderr",
     "output_type": "stream",
     "text": [
      "Bad pipe message: %s [b'0.9,image/avif,image/webp,image/apng,*/*;q=0.8,application/signed-exchange;v=b3;q=0.7\\r\\nHost: localhost:40933\\r\\nUs', b'-Agent: Mozilla/5.0 (Windows NT 10.0; Win64; x64) AppleWebKit/537.36 (KHTML, like Gecko) Chrome/128.']\n",
      "Bad pipe message: %s [b'0.0 Safari/537.36\\r\\nAccept-Encoding: gzip, defla']\n",
      "Bad pipe message: %s [b', br, zstd\\r\\nAccept-Language: de-DE,de;q=0.9,en-US;q=0.8,en;q=0.7\\r\\nCache-Control: max-age=0\\r\\nReferer: https://fuzzy-', b'mputing-machine-6949wrqg476p3gvq.github.dev/\\r\\nX-Request-ID: 4d1156bb3e98dce35124b1dc78d2762f\\r\\nX-Re', b'-IP: 10.240.0.69\\r\\nX-Forwarded-Port: 443\\r\\nX-Forwarded-Scheme: https\\r\\nX-Original-URI: /\\r\\nX-Scheme:']\n",
      "Bad pipe message: %s [b'ttps\\r\\nsec-fetch-site: same-site']\n",
      "Bad pipe message: %s [b'sec-fetch-mo']\n",
      "Bad pipe message: %s [b': navigate\\r\\nsec-fetch-dest: document\\r\\nsec-ch-ua: \"Chromium\";v=\"128\", \"Not;A=Brand\";v=\"24\", \"Google ', b'rome\";v=\"128\"\\r\\nsec-ch-ua-mobile: ?0\\r\\nsec-ch-ua-platform: \"Windows\"']\n",
      "Bad pipe message: %s [b'priority: u=']\n",
      "Bad pipe message: %s [b' i\\r\\nX-Original-Proto: https\\r\\nX-Forwarded-Proto:']\n",
      "Bad pipe message: %s [b'ttps\\r\\nX-Forwarded-Host: fuzzy-c']\n"
     ]
    }
   ],
   "source": [
    "# Read CSV and insert data into TinyFlux\n",
    "with open(\"example_data/swiss_bank_transactions.csv\", mode=\"r\") as file:\n",
    "    reader = csv.DictReader(file)\n",
    "    for row in reader:\n",
    "        point = Point(\n",
    "            time=datetime.strptime(row[\"time\"], \"%Y-%m-%d %H:%M:%S\"),\n",
    "            measurement=\"transactions\",\n",
    "            fields={\"amount\": float(row[\"amount\"])},  # Only numeric fields\n",
    "            tags={\n",
    "                \"location\": row[\"location\"],\n",
    "                \"account_id\": row[\"account_id\"],\n",
    "                \"currency\": row[\"currency\"],  # Move non-numeric fields to tags\n",
    "                \"transaction_type\": row[\"transaction_type\"]\n",
    "            }\n",
    "        )\n",
    "        db.insert(point)"
   ]
  },
  {
   "cell_type": "markdown",
   "metadata": {},
   "source": [
    "## Writing manually into Tinyflux"
   ]
  },
  {
   "cell_type": "code",
   "execution_count": 4,
   "metadata": {
    "tags": []
   },
   "outputs": [
    {
     "data": {
      "text/plain": [
       "2"
      ]
     },
     "execution_count": 4,
     "metadata": {},
     "output_type": "execute_result"
    }
   ],
   "source": [
    "# Create manual records\n",
    "p1 = Point(\n",
    "    time=datetime(2024, 1, 1, 12, 0, tzinfo=timezone.utc),\n",
    "    tags={\"location\": \"Winterthur\", \"account_id\": \"1234\", \"currency\": \"CHF\", \"transaction_type\": \"deposit\"},\n",
    "    fields={\"amount\": 1000.0}\n",
    ")\n",
    "\n",
    "p2 = Point(\n",
    "    time=datetime(2024, 1, 2, 12, 0, tzinfo=timezone.utc),\n",
    "    tags={\"location\": \"Winterthur\", \"account_id\": \"1234\", \"currency\": \"CHF\", \"transaction_type\": \"deposit\"},\n",
    "    fields={\"amount\": 2000.0}\n",
    ")\n",
    "\n",
    "# Insert into the DB.\n",
    "db.insert_multiple([p1, p2])"
   ]
  },
  {
   "cell_type": "markdown",
   "metadata": {},
   "source": [
    "## Querying by Time"
   ]
  },
  {
   "cell_type": "code",
   "execution_count": 14,
   "metadata": {
    "tags": []
   },
   "outputs": [
    {
     "name": "stdout",
     "output_type": "stream",
     "text": [
      "\n",
      "Time Query Count:\n",
      "1000\n"
     ]
    }
   ],
   "source": [
    "# Search for a time value\n",
    "Time = TimeQuery()\n",
    "time_start = Time >= datetime(2023, 1, 1, tzinfo=timezone.utc)\n",
    "time_end = Time < datetime(2023, 12, 31, tzinfo=timezone.utc)\n",
    "time_end_2 = db.get(time_end)\n",
    "time_count = db.count(time_start & time_end)\n",
    "print(\"\\nTime Query Count:\")\n",
    "print(time_count)\n"
   ]
  },
  {
   "cell_type": "markdown",
   "metadata": {},
   "source": [
    "## Querying by Field"
   ]
  },
  {
   "cell_type": "code",
   "execution_count": 35,
   "metadata": {
    "collapsed": true,
    "jupyter": {
     "outputs_hidden": true
    },
    "tags": []
   },
   "outputs": [
    {
     "name": "stdout",
     "output_type": "stream",
     "text": [
      "\n",
      "Field Query Results:\n"
     ]
    },
    {
     "ename": "AttributeError",
     "evalue": "'Point' object has no attribute 'tag'",
     "output_type": "error",
     "traceback": [
      "\u001b[0;31m---------------------------------------------------------------------------\u001b[0m",
      "\u001b[0;31mAttributeError\u001b[0m                            Traceback (most recent call last)",
      "Cell \u001b[0;32mIn[35], line 14\u001b[0m\n\u001b[1;32m      9\u001b[0m \u001b[38;5;28mprint\u001b[39m(\u001b[38;5;124m\"\u001b[39m\u001b[38;5;130;01m\\n\u001b[39;00m\u001b[38;5;124mField Query Results:\u001b[39m\u001b[38;5;124m\"\u001b[39m)\n\u001b[1;32m     10\u001b[0m \u001b[38;5;28;01mfor\u001b[39;00m result \u001b[38;5;129;01min\u001b[39;00m field_results:\n\u001b[1;32m     11\u001b[0m     \u001b[38;5;66;03m# Assuming 'result' is an object with attributes like 'tag' and 'fields'\u001b[39;00m\n\u001b[1;32m     12\u001b[0m     \n\u001b[1;32m     13\u001b[0m     \u001b[38;5;66;03m# Safely access attributes using `getattr()` to handle missing values\u001b[39;00m\n\u001b[0;32m---> 14\u001b[0m     location \u001b[38;5;241m=\u001b[39m \u001b[38;5;28mgetattr\u001b[39m(\u001b[43mresult\u001b[49m\u001b[38;5;241;43m.\u001b[39;49m\u001b[43mtag\u001b[49m, \u001b[38;5;124m\"\u001b[39m\u001b[38;5;124mlocation\u001b[39m\u001b[38;5;124m\"\u001b[39m, \u001b[38;5;124m\"\u001b[39m\u001b[38;5;124mN/A\u001b[39m\u001b[38;5;124m\"\u001b[39m)\n\u001b[1;32m     15\u001b[0m     account \u001b[38;5;241m=\u001b[39m \u001b[38;5;28mgetattr\u001b[39m(result\u001b[38;5;241m.\u001b[39mtag, \u001b[38;5;124m\"\u001b[39m\u001b[38;5;124maccount\u001b[39m\u001b[38;5;124m\"\u001b[39m, \u001b[38;5;124m\"\u001b[39m\u001b[38;5;124mN/A\u001b[39m\u001b[38;5;124m\"\u001b[39m)\n\u001b[1;32m     16\u001b[0m     amount \u001b[38;5;241m=\u001b[39m \u001b[38;5;28mgetattr\u001b[39m(result\u001b[38;5;241m.\u001b[39mfields, \u001b[38;5;124m\"\u001b[39m\u001b[38;5;124mamount\u001b[39m\u001b[38;5;124m\"\u001b[39m, \u001b[38;5;124m\"\u001b[39m\u001b[38;5;124mN/A\u001b[39m\u001b[38;5;124m\"\u001b[39m)\n",
      "\u001b[0;31mAttributeError\u001b[0m: 'Point' object has no attribute 'tag'"
     ]
    }
   ],
   "source": [
    "# Search for a field value\n",
    "Field = FieldQuery()\n",
    "#Tag = TagQuery()\n",
    "#field_results = db.select(\"fields.amount\", Field.amount > 1000.0)\n",
    "field_results = db.search(Field.amount < 1000.0)\n",
    "#field_select = field_results.select(\"tag.location\",\"tag.account\")\n",
    "#selected_results = field_results.select(\"tag.location\", \"tag.account\", \"fields.amount\")\n",
    "\n",
    "print(\"\\nField Query Results:\")\n",
    "for result in field_results:\n",
    "    # Assuming 'result' is an object with attributes like 'tag' and 'fields'\n",
    "    \n",
    "    # Safely access attributes using `getattr()` to handle missing values\n",
    "    location = getattr(result.tag, \"location\", \"N/A\")\n",
    "    account = getattr(result.tag, \"account\", \"N/A\")\n",
    "    amount = getattr(result.fields, \"amount\", \"N/A\")\n",
    "    \n",
    "    # Display the specific fields\n",
    "    print(f\"Location: {location}, Account: {account}, Amount: {amount}\")\n",
    "\n",
    "\n",
    "\n",
    "\n",
    "#print(\"\\nField Query Results:\")\n",
    "#for result in selected_results:\n",
    "#    print(result)"
   ]
  },
  {
   "cell_type": "markdown",
   "metadata": {},
   "source": [
    "## Querying by Tag"
   ]
  },
  {
   "cell_type": "code",
   "execution_count": 16,
   "metadata": {
    "collapsed": true,
    "jupyter": {
     "outputs_hidden": true
    },
    "tags": []
   },
   "outputs": [
    {
     "name": "stdout",
     "output_type": "stream",
     "text": [
      "Tag Query Results:\n",
      "Point(time=2023-01-01T12:29:00+00:00, measurement=transactions, tags=location:Zurich; account_id:6265; currency:USD; transaction_type:deposit, fields=amount:1084.57)\n",
      "Point(time=2023-01-01T15:46:00+00:00, measurement=transactions, tags=location:Zurich; account_id:2689; currency:EUR; transaction_type:deposit, fields=amount:219.92)\n",
      "Point(time=2023-01-01T18:10:00+00:00, measurement=transactions, tags=location:Zurich; account_id:1431; currency:USD; transaction_type:transfer, fields=amount:2738.98)\n",
      "Point(time=2023-01-02T00:51:00+00:00, measurement=transactions, tags=location:Zurich; account_id:7491; currency:USD; transaction_type:transfer, fields=amount:1794.01)\n",
      "Point(time=2023-01-02T09:14:00+00:00, measurement=transactions, tags=location:Zurich; account_id:4250; currency:EUR; transaction_type:withdrawal, fields=amount:150.51)\n",
      "Point(time=2023-01-02T14:54:00+00:00, measurement=transactions, tags=location:Zurich; account_id:1067; currency:CHF; transaction_type:transfer, fields=amount:3224.13)\n",
      "Point(time=2023-01-02T16:05:00+00:00, measurement=transactions, tags=location:Zurich; account_id:4919; currency:EUR; transaction_type:withdrawal, fields=amount:4260.04)\n",
      "Point(time=2023-01-02T23:08:00+00:00, measurement=transactions, tags=location:Zurich; account_id:3447; currency:CHF; transaction_type:transfer, fields=amount:3578.71)\n",
      "Point(time=2023-01-03T08:56:00+00:00, measurement=transactions, tags=location:Zurich; account_id:8995; currency:CHF; transaction_type:transfer, fields=amount:599.55)\n",
      "Point(time=2023-01-03T10:46:00+00:00, measurement=transactions, tags=location:Zurich; account_id:2161; currency:USD; transaction_type:withdrawal, fields=amount:3948.15)\n",
      "Point(time=2023-01-03T15:12:00+00:00, measurement=transactions, tags=location:Zurich; account_id:5992; currency:CHF; transaction_type:transfer, fields=amount:606.84)\n",
      "Point(time=2023-01-04T03:52:00+00:00, measurement=transactions, tags=location:Zurich; account_id:9425; currency:CHF; transaction_type:withdrawal, fields=amount:2864.31)\n",
      "Point(time=2023-01-04T16:07:00+00:00, measurement=transactions, tags=location:Zurich; account_id:5842; currency:USD; transaction_type:withdrawal, fields=amount:3605.22)\n",
      "Point(time=2023-01-04T20:42:00+00:00, measurement=transactions, tags=location:Zurich; account_id:8213; currency:CHF; transaction_type:transfer, fields=amount:442.34)\n",
      "Point(time=2023-01-05T06:52:00+00:00, measurement=transactions, tags=location:Zurich; account_id:3974; currency:EUR; transaction_type:deposit, fields=amount:1410.55)\n",
      "Point(time=2023-01-05T14:54:00+00:00, measurement=transactions, tags=location:Zurich; account_id:7713; currency:USD; transaction_type:withdrawal, fields=amount:4487.03)\n",
      "Point(time=2023-01-06T00:49:00+00:00, measurement=transactions, tags=location:Zurich; account_id:4980; currency:EUR; transaction_type:transfer, fields=amount:2011.28)\n",
      "Point(time=2023-01-06T05:43:00+00:00, measurement=transactions, tags=location:Zurich; account_id:8169; currency:CHF; transaction_type:deposit, fields=amount:3871.24)\n",
      "Point(time=2023-01-06T19:23:00+00:00, measurement=transactions, tags=location:Zurich; account_id:6837; currency:CHF; transaction_type:transfer, fields=amount:3511.29)\n",
      "Point(time=2023-01-07T00:21:00+00:00, measurement=transactions, tags=location:Zurich; account_id:6137; currency:USD; transaction_type:transfer, fields=amount:3738.37)\n",
      "Point(time=2023-01-07T00:26:00+00:00, measurement=transactions, tags=location:Zurich; account_id:1610; currency:USD; transaction_type:transfer, fields=amount:346.74)\n",
      "Point(time=2023-01-07T04:33:00+00:00, measurement=transactions, tags=location:Zurich; account_id:1732; currency:EUR; transaction_type:deposit, fields=amount:2821.25)\n",
      "Point(time=2023-01-07T04:40:00+00:00, measurement=transactions, tags=location:Zurich; account_id:2666; currency:CHF; transaction_type:deposit, fields=amount:4217.86)\n",
      "Point(time=2023-01-07T11:44:00+00:00, measurement=transactions, tags=location:Zurich; account_id:9144; currency:CHF; transaction_type:withdrawal, fields=amount:3614.15)\n",
      "Point(time=2023-01-07T15:15:00+00:00, measurement=transactions, tags=location:Zurich; account_id:5054; currency:USD; transaction_type:withdrawal, fields=amount:4838.9)\n",
      "Point(time=2023-01-07T21:06:00+00:00, measurement=transactions, tags=location:Zurich; account_id:2037; currency:USD; transaction_type:transfer, fields=amount:3285.53)\n",
      "Point(time=2023-01-08T01:17:00+00:00, measurement=transactions, tags=location:Zurich; account_id:5642; currency:USD; transaction_type:withdrawal, fields=amount:4367.44)\n",
      "Point(time=2023-01-08T02:49:00+00:00, measurement=transactions, tags=location:Zurich; account_id:5683; currency:CHF; transaction_type:transfer, fields=amount:1176.33)\n",
      "Point(time=2023-01-09T03:12:00+00:00, measurement=transactions, tags=location:Zurich; account_id:6274; currency:EUR; transaction_type:deposit, fields=amount:3444.31)\n",
      "Point(time=2023-01-09T20:37:00+00:00, measurement=transactions, tags=location:Zurich; account_id:6252; currency:USD; transaction_type:deposit, fields=amount:2321.25)\n",
      "Point(time=2023-01-10T10:30:00+00:00, measurement=transactions, tags=location:Zurich; account_id:5789; currency:USD; transaction_type:withdrawal, fields=amount:513.88)\n",
      "Point(time=2023-01-10T14:45:00+00:00, measurement=transactions, tags=location:Zurich; account_id:6454; currency:USD; transaction_type:withdrawal, fields=amount:3122.45)\n",
      "Point(time=2023-01-10T15:35:00+00:00, measurement=transactions, tags=location:Zurich; account_id:7427; currency:CHF; transaction_type:transfer, fields=amount:4935.41)\n",
      "Point(time=2023-01-11T01:35:00+00:00, measurement=transactions, tags=location:Zurich; account_id:5193; currency:EUR; transaction_type:deposit, fields=amount:4653.63)\n",
      "Point(time=2023-01-11T09:06:00+00:00, measurement=transactions, tags=location:Zurich; account_id:8976; currency:CHF; transaction_type:withdrawal, fields=amount:4077.16)\n",
      "Point(time=2023-01-12T12:26:00+00:00, measurement=transactions, tags=location:Zurich; account_id:8125; currency:USD; transaction_type:transfer, fields=amount:649.83)\n",
      "Point(time=2023-01-12T20:03:00+00:00, measurement=transactions, tags=location:Zurich; account_id:2654; currency:EUR; transaction_type:transfer, fields=amount:838.8)\n",
      "Point(time=2023-01-13T03:21:00+00:00, measurement=transactions, tags=location:Zurich; account_id:8095; currency:EUR; transaction_type:deposit, fields=amount:2827.15)\n",
      "Point(time=2023-01-13T08:03:00+00:00, measurement=transactions, tags=location:Zurich; account_id:1122; currency:CHF; transaction_type:withdrawal, fields=amount:3971.08)\n",
      "Point(time=2023-01-13T23:19:00+00:00, measurement=transactions, tags=location:Zurich; account_id:5713; currency:USD; transaction_type:deposit, fields=amount:4125.54)\n",
      "Point(time=2023-01-14T06:44:00+00:00, measurement=transactions, tags=location:Zurich; account_id:7755; currency:USD; transaction_type:withdrawal, fields=amount:1561.58)\n",
      "Point(time=2023-01-14T08:45:00+00:00, measurement=transactions, tags=location:Zurich; account_id:7770; currency:EUR; transaction_type:transfer, fields=amount:4648.79)\n",
      "Point(time=2023-01-14T09:59:00+00:00, measurement=transactions, tags=location:Zurich; account_id:7583; currency:CHF; transaction_type:transfer, fields=amount:4417.03)\n",
      "Point(time=2023-01-14T11:16:00+00:00, measurement=transactions, tags=location:Zurich; account_id:5998; currency:EUR; transaction_type:deposit, fields=amount:3196.56)\n",
      "Point(time=2023-01-14T16:48:00+00:00, measurement=transactions, tags=location:Zurich; account_id:1345; currency:USD; transaction_type:withdrawal, fields=amount:2414.93)\n",
      "Point(time=2023-01-14T20:04:00+00:00, measurement=transactions, tags=location:Zurich; account_id:7554; currency:EUR; transaction_type:withdrawal, fields=amount:1175.34)\n",
      "Point(time=2023-01-14T20:53:00+00:00, measurement=transactions, tags=location:Zurich; account_id:8215; currency:USD; transaction_type:withdrawal, fields=amount:1010.26)\n",
      "Point(time=2023-01-14T23:16:00+00:00, measurement=transactions, tags=location:Zurich; account_id:7875; currency:CHF; transaction_type:withdrawal, fields=amount:2701.11)\n",
      "Point(time=2023-01-15T05:00:00+00:00, measurement=transactions, tags=location:Zurich; account_id:2321; currency:CHF; transaction_type:withdrawal, fields=amount:2739.04)\n",
      "Point(time=2023-01-15T08:58:00+00:00, measurement=transactions, tags=location:Zurich; account_id:9832; currency:CHF; transaction_type:withdrawal, fields=amount:538.22)\n",
      "Point(time=2023-01-15T16:16:00+00:00, measurement=transactions, tags=location:Zurich; account_id:3069; currency:EUR; transaction_type:transfer, fields=amount:3926.05)\n",
      "Point(time=2023-01-15T18:17:00+00:00, measurement=transactions, tags=location:Zurich; account_id:4226; currency:USD; transaction_type:transfer, fields=amount:2033.34)\n",
      "Point(time=2023-01-16T14:12:00+00:00, measurement=transactions, tags=location:Zurich; account_id:4055; currency:USD; transaction_type:withdrawal, fields=amount:4388.96)\n",
      "Point(time=2023-01-16T15:53:00+00:00, measurement=transactions, tags=location:Zurich; account_id:6813; currency:CHF; transaction_type:deposit, fields=amount:2893.09)\n",
      "Point(time=2023-01-16T23:19:00+00:00, measurement=transactions, tags=location:Zurich; account_id:4422; currency:USD; transaction_type:transfer, fields=amount:1429.06)\n",
      "Point(time=2023-01-17T00:41:00+00:00, measurement=transactions, tags=location:Zurich; account_id:5541; currency:CHF; transaction_type:transfer, fields=amount:2186.73)\n",
      "Point(time=2023-01-17T06:44:00+00:00, measurement=transactions, tags=location:Zurich; account_id:9200; currency:EUR; transaction_type:transfer, fields=amount:3611.65)\n",
      "Point(time=2023-01-17T11:55:00+00:00, measurement=transactions, tags=location:Zurich; account_id:7213; currency:EUR; transaction_type:transfer, fields=amount:2070.49)\n",
      "Point(time=2023-01-17T15:15:00+00:00, measurement=transactions, tags=location:Zurich; account_id:2901; currency:EUR; transaction_type:transfer, fields=amount:3959.15)\n",
      "Point(time=2023-01-17T16:15:00+00:00, measurement=transactions, tags=location:Zurich; account_id:5401; currency:EUR; transaction_type:transfer, fields=amount:660.97)\n",
      "Point(time=2023-01-18T14:04:00+00:00, measurement=transactions, tags=location:Zurich; account_id:9601; currency:EUR; transaction_type:withdrawal, fields=amount:344.5)\n",
      "Point(time=2023-01-18T15:28:00+00:00, measurement=transactions, tags=location:Zurich; account_id:5792; currency:EUR; transaction_type:deposit, fields=amount:2144.12)\n",
      "Point(time=2023-01-19T04:08:00+00:00, measurement=transactions, tags=location:Zurich; account_id:7024; currency:CHF; transaction_type:deposit, fields=amount:3110.68)\n",
      "Point(time=2023-01-19T06:09:00+00:00, measurement=transactions, tags=location:Zurich; account_id:7653; currency:EUR; transaction_type:withdrawal, fields=amount:454.92)\n",
      "Point(time=2023-01-19T16:35:00+00:00, measurement=transactions, tags=location:Zurich; account_id:9461; currency:USD; transaction_type:deposit, fields=amount:1795.53)\n",
      "Point(time=2023-01-20T11:49:00+00:00, measurement=transactions, tags=location:Zurich; account_id:1416; currency:EUR; transaction_type:withdrawal, fields=amount:2146.01)\n",
      "Point(time=2023-01-20T21:15:00+00:00, measurement=transactions, tags=location:Zurich; account_id:8314; currency:CHF; transaction_type:deposit, fields=amount:4816.34)\n",
      "Point(time=2023-01-21T13:08:00+00:00, measurement=transactions, tags=location:Zurich; account_id:7720; currency:EUR; transaction_type:deposit, fields=amount:1757.59)\n",
      "Point(time=2023-01-21T15:50:00+00:00, measurement=transactions, tags=location:Zurich; account_id:4746; currency:EUR; transaction_type:transfer, fields=amount:3577.9)\n",
      "Point(time=2023-01-21T19:36:00+00:00, measurement=transactions, tags=location:Zurich; account_id:6396; currency:EUR; transaction_type:deposit, fields=amount:3007.2)\n",
      "Point(time=2023-01-22T06:32:00+00:00, measurement=transactions, tags=location:Zurich; account_id:7930; currency:USD; transaction_type:withdrawal, fields=amount:2730.61)\n",
      "Point(time=2023-01-22T18:05:00+00:00, measurement=transactions, tags=location:Zurich; account_id:4349; currency:EUR; transaction_type:transfer, fields=amount:4546.36)\n",
      "Point(time=2023-01-23T04:29:00+00:00, measurement=transactions, tags=location:Zurich; account_id:4410; currency:EUR; transaction_type:withdrawal, fields=amount:974.03)\n",
      "Point(time=2023-01-23T14:21:00+00:00, measurement=transactions, tags=location:Zurich; account_id:2152; currency:CHF; transaction_type:withdrawal, fields=amount:2279.7)\n",
      "Point(time=2023-01-24T03:03:00+00:00, measurement=transactions, tags=location:Zurich; account_id:8686; currency:CHF; transaction_type:transfer, fields=amount:3823.65)\n",
      "Point(time=2023-01-24T10:34:00+00:00, measurement=transactions, tags=location:Zurich; account_id:3155; currency:EUR; transaction_type:withdrawal, fields=amount:759.26)\n",
      "Point(time=2023-01-24T13:35:00+00:00, measurement=transactions, tags=location:Zurich; account_id:4687; currency:USD; transaction_type:withdrawal, fields=amount:1468.9)\n",
      "Point(time=2023-01-24T17:11:00+00:00, measurement=transactions, tags=location:Zurich; account_id:4787; currency:EUR; transaction_type:deposit, fields=amount:3492.95)\n",
      "Point(time=2023-01-24T18:40:00+00:00, measurement=transactions, tags=location:Zurich; account_id:8728; currency:USD; transaction_type:withdrawal, fields=amount:2124.32)\n",
      "Point(time=2023-01-24T19:42:00+00:00, measurement=transactions, tags=location:Zurich; account_id:5554; currency:CHF; transaction_type:transfer, fields=amount:2355.4)\n",
      "Point(time=2023-01-25T15:51:00+00:00, measurement=transactions, tags=location:Zurich; account_id:2271; currency:CHF; transaction_type:withdrawal, fields=amount:1320.4)\n",
      "Point(time=2023-01-25T17:23:00+00:00, measurement=transactions, tags=location:Zurich; account_id:3227; currency:EUR; transaction_type:withdrawal, fields=amount:1319.81)\n",
      "Point(time=2023-01-25T17:34:00+00:00, measurement=transactions, tags=location:Zurich; account_id:1667; currency:CHF; transaction_type:withdrawal, fields=amount:1698.34)\n",
      "Point(time=2023-01-25T20:54:00+00:00, measurement=transactions, tags=location:Zurich; account_id:7770; currency:USD; transaction_type:transfer, fields=amount:2644.16)\n",
      "Point(time=2023-01-25T22:08:00+00:00, measurement=transactions, tags=location:Zurich; account_id:1780; currency:CHF; transaction_type:transfer, fields=amount:4151.2)\n",
      "Point(time=2023-01-27T01:35:00+00:00, measurement=transactions, tags=location:Zurich; account_id:7499; currency:CHF; transaction_type:withdrawal, fields=amount:3600.29)\n",
      "Point(time=2023-01-27T02:52:00+00:00, measurement=transactions, tags=location:Zurich; account_id:2961; currency:CHF; transaction_type:transfer, fields=amount:2815.22)\n",
      "Point(time=2023-01-27T12:49:00+00:00, measurement=transactions, tags=location:Zurich; account_id:2638; currency:CHF; transaction_type:withdrawal, fields=amount:728.74)\n",
      "Point(time=2023-01-27T19:58:00+00:00, measurement=transactions, tags=location:Zurich; account_id:1004; currency:CHF; transaction_type:transfer, fields=amount:4368.77)\n",
      "Point(time=2023-01-27T22:36:00+00:00, measurement=transactions, tags=location:Zurich; account_id:9682; currency:EUR; transaction_type:deposit, fields=amount:2168.5)\n",
      "Point(time=2023-01-28T11:17:00+00:00, measurement=transactions, tags=location:Zurich; account_id:4471; currency:EUR; transaction_type:deposit, fields=amount:813.71)\n",
      "Point(time=2023-01-28T12:38:00+00:00, measurement=transactions, tags=location:Zurich; account_id:9077; currency:USD; transaction_type:transfer, fields=amount:4420.44)\n",
      "Point(time=2023-01-29T00:31:00+00:00, measurement=transactions, tags=location:Zurich; account_id:7693; currency:CHF; transaction_type:transfer, fields=amount:1764.1)\n",
      "Point(time=2023-01-29T01:46:00+00:00, measurement=transactions, tags=location:Zurich; account_id:5832; currency:USD; transaction_type:withdrawal, fields=amount:3538.79)\n",
      "Point(time=2023-01-29T05:32:00+00:00, measurement=transactions, tags=location:Zurich; account_id:6655; currency:USD; transaction_type:transfer, fields=amount:713.05)\n",
      "Point(time=2023-01-29T13:21:00+00:00, measurement=transactions, tags=location:Zurich; account_id:5656; currency:USD; transaction_type:deposit, fields=amount:2971.22)\n",
      "Point(time=2023-01-29T17:20:00+00:00, measurement=transactions, tags=location:Zurich; account_id:7211; currency:CHF; transaction_type:transfer, fields=amount:3857.13)\n",
      "Point(time=2023-01-30T07:17:00+00:00, measurement=transactions, tags=location:Zurich; account_id:6198; currency:USD; transaction_type:withdrawal, fields=amount:1388.64)\n",
      "Point(time=2023-01-30T16:00:00+00:00, measurement=transactions, tags=location:Zurich; account_id:3230; currency:CHF; transaction_type:deposit, fields=amount:915.53)\n",
      "Point(time=2023-01-30T20:44:00+00:00, measurement=transactions, tags=location:Zurich; account_id:3880; currency:CHF; transaction_type:deposit, fields=amount:2503.45)\n",
      "Point(time=2023-01-30T22:12:00+00:00, measurement=transactions, tags=location:Zurich; account_id:8625; currency:EUR; transaction_type:transfer, fields=amount:4711.07)\n",
      "Point(time=2023-01-30T22:39:00+00:00, measurement=transactions, tags=location:Zurich; account_id:3180; currency:EUR; transaction_type:transfer, fields=amount:1520.19)\n",
      "Point(time=2023-01-31T01:57:00+00:00, measurement=transactions, tags=location:Zurich; account_id:1811; currency:EUR; transaction_type:withdrawal, fields=amount:2231.75)\n",
      "Point(time=2023-01-31T10:20:00+00:00, measurement=transactions, tags=location:Zurich; account_id:9731; currency:EUR; transaction_type:withdrawal, fields=amount:4784.04)\n",
      "Point(time=2023-01-31T20:36:00+00:00, measurement=transactions, tags=location:Zurich; account_id:1355; currency:EUR; transaction_type:transfer, fields=amount:2565.65)\n",
      "Point(time=2023-01-31T21:21:00+00:00, measurement=transactions, tags=location:Zurich; account_id:8427; currency:EUR; transaction_type:deposit, fields=amount:1040.23)\n",
      "Point(time=2023-01-31T22:04:00+00:00, measurement=transactions, tags=location:Zurich; account_id:5039; currency:EUR; transaction_type:deposit, fields=amount:2393.86)\n",
      "Point(time=2023-02-01T03:21:00+00:00, measurement=transactions, tags=location:Zurich; account_id:6668; currency:USD; transaction_type:withdrawal, fields=amount:2140.71)\n",
      "Point(time=2023-02-02T06:59:00+00:00, measurement=transactions, tags=location:Zurich; account_id:7858; currency:EUR; transaction_type:withdrawal, fields=amount:4505.08)\n",
      "Point(time=2023-02-02T09:57:00+00:00, measurement=transactions, tags=location:Zurich; account_id:7919; currency:EUR; transaction_type:transfer, fields=amount:3472.6)\n",
      "Point(time=2023-02-02T22:33:00+00:00, measurement=transactions, tags=location:Zurich; account_id:4557; currency:USD; transaction_type:deposit, fields=amount:1469.45)\n",
      "Point(time=2023-02-03T02:05:00+00:00, measurement=transactions, tags=location:Zurich; account_id:3825; currency:USD; transaction_type:withdrawal, fields=amount:1377.92)\n",
      "Point(time=2023-02-03T12:46:00+00:00, measurement=transactions, tags=location:Zurich; account_id:8322; currency:EUR; transaction_type:deposit, fields=amount:2441.63)\n",
      "Point(time=2023-02-03T16:42:00+00:00, measurement=transactions, tags=location:Zurich; account_id:9072; currency:CHF; transaction_type:withdrawal, fields=amount:4940.92)\n",
      "Point(time=2023-02-04T05:25:00+00:00, measurement=transactions, tags=location:Zurich; account_id:2395; currency:USD; transaction_type:deposit, fields=amount:1243.41)\n",
      "Point(time=2023-02-04T08:39:00+00:00, measurement=transactions, tags=location:Zurich; account_id:4712; currency:USD; transaction_type:deposit, fields=amount:917.22)\n",
      "Point(time=2023-02-05T02:29:00+00:00, measurement=transactions, tags=location:Zurich; account_id:7188; currency:CHF; transaction_type:transfer, fields=amount:1027.1)\n",
      "Point(time=2023-02-05T04:47:00+00:00, measurement=transactions, tags=location:Zurich; account_id:6697; currency:CHF; transaction_type:transfer, fields=amount:2262.88)\n",
      "Point(time=2023-02-05T05:03:00+00:00, measurement=transactions, tags=location:Zurich; account_id:4517; currency:USD; transaction_type:withdrawal, fields=amount:3313.63)\n",
      "Point(time=2023-02-06T09:03:00+00:00, measurement=transactions, tags=location:Zurich; account_id:4173; currency:EUR; transaction_type:deposit, fields=amount:3434.78)\n",
      "Point(time=2023-02-06T12:06:00+00:00, measurement=transactions, tags=location:Zurich; account_id:4172; currency:USD; transaction_type:withdrawal, fields=amount:4245.81)\n",
      "Point(time=2023-02-06T16:40:00+00:00, measurement=transactions, tags=location:Zurich; account_id:6526; currency:USD; transaction_type:deposit, fields=amount:3111.0)\n",
      "Point(time=2023-02-06T19:30:00+00:00, measurement=transactions, tags=location:Zurich; account_id:7268; currency:CHF; transaction_type:withdrawal, fields=amount:876.56)\n",
      "Point(time=2023-02-07T00:56:00+00:00, measurement=transactions, tags=location:Zurich; account_id:9159; currency:USD; transaction_type:deposit, fields=amount:804.47)\n",
      "Point(time=2023-02-07T10:13:00+00:00, measurement=transactions, tags=location:Zurich; account_id:6348; currency:CHF; transaction_type:deposit, fields=amount:2723.04)\n",
      "Point(time=2023-02-07T18:08:00+00:00, measurement=transactions, tags=location:Zurich; account_id:3395; currency:CHF; transaction_type:transfer, fields=amount:3532.2)\n",
      "Point(time=2023-02-08T00:37:00+00:00, measurement=transactions, tags=location:Zurich; account_id:2805; currency:CHF; transaction_type:withdrawal, fields=amount:4821.97)\n",
      "Point(time=2023-02-08T07:49:00+00:00, measurement=transactions, tags=location:Zurich; account_id:2034; currency:EUR; transaction_type:deposit, fields=amount:2583.3)\n",
      "Point(time=2023-02-08T09:52:00+00:00, measurement=transactions, tags=location:Zurich; account_id:6170; currency:USD; transaction_type:withdrawal, fields=amount:602.59)\n",
      "Point(time=2023-02-08T11:48:00+00:00, measurement=transactions, tags=location:Zurich; account_id:7980; currency:EUR; transaction_type:withdrawal, fields=amount:3107.16)\n",
      "Point(time=2023-02-09T02:51:00+00:00, measurement=transactions, tags=location:Zurich; account_id:3403; currency:USD; transaction_type:deposit, fields=amount:2852.36)\n",
      "Point(time=2023-02-09T11:57:00+00:00, measurement=transactions, tags=location:Zurich; account_id:4116; currency:USD; transaction_type:withdrawal, fields=amount:3443.91)\n",
      "Point(time=2023-02-09T13:49:00+00:00, measurement=transactions, tags=location:Zurich; account_id:6459; currency:USD; transaction_type:withdrawal, fields=amount:4172.7)\n",
      "Point(time=2023-02-10T03:22:00+00:00, measurement=transactions, tags=location:Zurich; account_id:5698; currency:USD; transaction_type:deposit, fields=amount:3530.1)\n",
      "Point(time=2023-02-10T04:36:00+00:00, measurement=transactions, tags=location:Zurich; account_id:1955; currency:EUR; transaction_type:transfer, fields=amount:1108.4)\n",
      "Point(time=2023-02-11T00:14:00+00:00, measurement=transactions, tags=location:Zurich; account_id:1491; currency:EUR; transaction_type:withdrawal, fields=amount:4253.0)\n",
      "Point(time=2023-02-11T03:01:00+00:00, measurement=transactions, tags=location:Zurich; account_id:4917; currency:USD; transaction_type:deposit, fields=amount:2819.4)\n",
      "Point(time=2023-02-11T14:25:00+00:00, measurement=transactions, tags=location:Zurich; account_id:5016; currency:CHF; transaction_type:withdrawal, fields=amount:3117.16)\n",
      "Point(time=2023-02-12T03:26:00+00:00, measurement=transactions, tags=location:Zurich; account_id:6968; currency:CHF; transaction_type:withdrawal, fields=amount:4436.41)\n",
      "Point(time=2023-02-12T08:06:00+00:00, measurement=transactions, tags=location:Zurich; account_id:7297; currency:CHF; transaction_type:deposit, fields=amount:3077.22)\n",
      "Point(time=2023-02-12T10:27:00+00:00, measurement=transactions, tags=location:Zurich; account_id:4161; currency:CHF; transaction_type:transfer, fields=amount:2178.25)\n",
      "Point(time=2023-02-12T18:06:00+00:00, measurement=transactions, tags=location:Zurich; account_id:8578; currency:EUR; transaction_type:withdrawal, fields=amount:1393.27)\n",
      "Point(time=2023-02-13T05:21:00+00:00, measurement=transactions, tags=location:Zurich; account_id:4613; currency:EUR; transaction_type:deposit, fields=amount:3199.68)\n",
      "Point(time=2023-02-13T17:38:00+00:00, measurement=transactions, tags=location:Zurich; account_id:8429; currency:CHF; transaction_type:deposit, fields=amount:2747.07)\n",
      "Point(time=2023-02-14T01:04:00+00:00, measurement=transactions, tags=location:Zurich; account_id:9804; currency:EUR; transaction_type:withdrawal, fields=amount:916.33)\n",
      "Point(time=2023-02-14T06:32:00+00:00, measurement=transactions, tags=location:Zurich; account_id:2840; currency:EUR; transaction_type:deposit, fields=amount:4493.29)\n",
      "Point(time=2023-02-14T11:22:00+00:00, measurement=transactions, tags=location:Zurich; account_id:3194; currency:CHF; transaction_type:deposit, fields=amount:1155.54)\n",
      "Point(time=2023-02-15T09:48:00+00:00, measurement=transactions, tags=location:Zurich; account_id:7556; currency:USD; transaction_type:transfer, fields=amount:695.2)\n",
      "Point(time=2023-02-15T15:23:00+00:00, measurement=transactions, tags=location:Zurich; account_id:2164; currency:CHF; transaction_type:deposit, fields=amount:3705.17)\n",
      "Point(time=2023-02-15T22:53:00+00:00, measurement=transactions, tags=location:Zurich; account_id:6773; currency:CHF; transaction_type:deposit, fields=amount:4855.25)\n",
      "Point(time=2023-02-16T01:46:00+00:00, measurement=transactions, tags=location:Zurich; account_id:8297; currency:EUR; transaction_type:deposit, fields=amount:2947.96)\n",
      "Point(time=2023-02-16T05:43:00+00:00, measurement=transactions, tags=location:Zurich; account_id:7623; currency:EUR; transaction_type:transfer, fields=amount:2667.1)\n",
      "Point(time=2023-02-16T06:24:00+00:00, measurement=transactions, tags=location:Zurich; account_id:2065; currency:USD; transaction_type:deposit, fields=amount:1205.31)\n",
      "Point(time=2023-02-17T09:30:00+00:00, measurement=transactions, tags=location:Zurich; account_id:2402; currency:USD; transaction_type:withdrawal, fields=amount:2325.12)\n",
      "Point(time=2023-02-17T13:34:00+00:00, measurement=transactions, tags=location:Zurich; account_id:2158; currency:USD; transaction_type:deposit, fields=amount:2350.42)\n",
      "Point(time=2023-02-17T14:05:00+00:00, measurement=transactions, tags=location:Zurich; account_id:2897; currency:USD; transaction_type:deposit, fields=amount:3976.41)\n",
      "Point(time=2023-02-18T22:07:00+00:00, measurement=transactions, tags=location:Zurich; account_id:3983; currency:EUR; transaction_type:withdrawal, fields=amount:2444.53)\n",
      "Point(time=2023-02-19T02:53:00+00:00, measurement=transactions, tags=location:Zurich; account_id:7066; currency:EUR; transaction_type:transfer, fields=amount:1037.79)\n",
      "Point(time=2023-02-19T07:19:00+00:00, measurement=transactions, tags=location:Zurich; account_id:7285; currency:EUR; transaction_type:transfer, fields=amount:3471.45)\n",
      "Point(time=2023-02-19T14:31:00+00:00, measurement=transactions, tags=location:Zurich; account_id:2350; currency:EUR; transaction_type:withdrawal, fields=amount:2353.14)\n",
      "Point(time=2023-02-20T02:30:00+00:00, measurement=transactions, tags=location:Zurich; account_id:1073; currency:USD; transaction_type:withdrawal, fields=amount:4548.68)\n",
      "Point(time=2023-02-21T01:41:00+00:00, measurement=transactions, tags=location:Zurich; account_id:2675; currency:CHF; transaction_type:deposit, fields=amount:2786.73)\n",
      "Point(time=2023-02-21T10:22:00+00:00, measurement=transactions, tags=location:Zurich; account_id:6458; currency:USD; transaction_type:withdrawal, fields=amount:1579.69)\n",
      "Point(time=2023-02-21T14:03:00+00:00, measurement=transactions, tags=location:Zurich; account_id:3907; currency:CHF; transaction_type:transfer, fields=amount:1197.12)\n",
      "Point(time=2023-02-21T22:01:00+00:00, measurement=transactions, tags=location:Zurich; account_id:5673; currency:CHF; transaction_type:deposit, fields=amount:875.63)\n",
      "Point(time=2023-02-23T03:44:00+00:00, measurement=transactions, tags=location:Zurich; account_id:5095; currency:USD; transaction_type:withdrawal, fields=amount:2239.33)\n",
      "Point(time=2023-02-23T07:00:00+00:00, measurement=transactions, tags=location:Zurich; account_id:5883; currency:USD; transaction_type:deposit, fields=amount:1164.47)\n",
      "Point(time=2023-02-24T17:29:00+00:00, measurement=transactions, tags=location:Zurich; account_id:1337; currency:EUR; transaction_type:deposit, fields=amount:4302.76)\n",
      "Point(time=2023-02-25T00:07:00+00:00, measurement=transactions, tags=location:Zurich; account_id:3125; currency:USD; transaction_type:withdrawal, fields=amount:2248.65)\n",
      "Point(time=2023-02-25T09:37:00+00:00, measurement=transactions, tags=location:Zurich; account_id:4320; currency:CHF; transaction_type:transfer, fields=amount:255.84)\n",
      "Point(time=2023-02-26T09:08:00+00:00, measurement=transactions, tags=location:Zurich; account_id:4873; currency:EUR; transaction_type:withdrawal, fields=amount:4593.9)\n",
      "Point(time=2023-02-26T10:16:00+00:00, measurement=transactions, tags=location:Zurich; account_id:3628; currency:CHF; transaction_type:deposit, fields=amount:1093.62)\n",
      "Point(time=2023-02-26T13:34:00+00:00, measurement=transactions, tags=location:Zurich; account_id:8325; currency:EUR; transaction_type:deposit, fields=amount:4202.45)\n",
      "Point(time=2023-02-26T15:32:00+00:00, measurement=transactions, tags=location:Zurich; account_id:2606; currency:USD; transaction_type:withdrawal, fields=amount:2355.03)\n",
      "Point(time=2023-02-27T00:19:00+00:00, measurement=transactions, tags=location:Zurich; account_id:5787; currency:CHF; transaction_type:deposit, fields=amount:3856.44)\n",
      "Point(time=2023-02-27T03:59:00+00:00, measurement=transactions, tags=location:Zurich; account_id:7479; currency:EUR; transaction_type:deposit, fields=amount:3342.58)\n",
      "Point(time=2023-02-27T10:38:00+00:00, measurement=transactions, tags=location:Zurich; account_id:3887; currency:CHF; transaction_type:withdrawal, fields=amount:3871.66)\n",
      "Point(time=2023-02-27T18:13:00+00:00, measurement=transactions, tags=location:Zurich; account_id:1703; currency:USD; transaction_type:transfer, fields=amount:3053.7)\n",
      "Point(time=2023-02-28T01:39:00+00:00, measurement=transactions, tags=location:Zurich; account_id:9422; currency:EUR; transaction_type:withdrawal, fields=amount:3095.35)\n",
      "Point(time=2023-02-28T01:55:00+00:00, measurement=transactions, tags=location:Zurich; account_id:7326; currency:CHF; transaction_type:deposit, fields=amount:3260.69)\n",
      "Point(time=2023-02-28T15:04:00+00:00, measurement=transactions, tags=location:Zurich; account_id:7760; currency:USD; transaction_type:withdrawal, fields=amount:1034.11)\n",
      "Point(time=2023-02-28T20:22:00+00:00, measurement=transactions, tags=location:Zurich; account_id:3063; currency:EUR; transaction_type:transfer, fields=amount:2350.19)\n",
      "Point(time=2023-03-01T09:55:00+00:00, measurement=transactions, tags=location:Zurich; account_id:9334; currency:CHF; transaction_type:transfer, fields=amount:4814.61)\n",
      "Point(time=2023-03-02T07:39:00+00:00, measurement=transactions, tags=location:Zurich; account_id:1893; currency:CHF; transaction_type:transfer, fields=amount:2198.87)\n",
      "Point(time=2023-03-02T17:31:00+00:00, measurement=transactions, tags=location:Zurich; account_id:3709; currency:CHF; transaction_type:withdrawal, fields=amount:1634.97)\n",
      "Point(time=2023-03-02T19:32:00+00:00, measurement=transactions, tags=location:Zurich; account_id:2342; currency:CHF; transaction_type:withdrawal, fields=amount:442.51)\n",
      "Point(time=2023-03-02T20:35:00+00:00, measurement=transactions, tags=location:Zurich; account_id:5748; currency:USD; transaction_type:transfer, fields=amount:167.54)\n",
      "Point(time=2023-03-03T00:34:00+00:00, measurement=transactions, tags=location:Zurich; account_id:7984; currency:CHF; transaction_type:deposit, fields=amount:1744.14)\n",
      "Point(time=2023-03-03T08:37:00+00:00, measurement=transactions, tags=location:Zurich; account_id:7028; currency:USD; transaction_type:deposit, fields=amount:3339.61)\n",
      "Point(time=2023-03-03T10:59:00+00:00, measurement=transactions, tags=location:Zurich; account_id:8687; currency:CHF; transaction_type:deposit, fields=amount:1928.18)\n",
      "Point(time=2023-03-03T13:03:00+00:00, measurement=transactions, tags=location:Zurich; account_id:1426; currency:EUR; transaction_type:deposit, fields=amount:4173.0)\n",
      "Point(time=2023-03-03T23:16:00+00:00, measurement=transactions, tags=location:Zurich; account_id:7064; currency:USD; transaction_type:deposit, fields=amount:4646.33)\n",
      "Point(time=2023-03-05T05:50:00+00:00, measurement=transactions, tags=location:Zurich; account_id:2783; currency:USD; transaction_type:transfer, fields=amount:3248.73)\n",
      "Point(time=2023-03-05T09:19:00+00:00, measurement=transactions, tags=location:Zurich; account_id:1254; currency:EUR; transaction_type:deposit, fields=amount:3150.73)\n",
      "Point(time=2023-03-06T12:02:00+00:00, measurement=transactions, tags=location:Zurich; account_id:6257; currency:USD; transaction_type:withdrawal, fields=amount:3094.56)\n",
      "Point(time=2023-03-07T00:44:00+00:00, measurement=transactions, tags=location:Zurich; account_id:8834; currency:EUR; transaction_type:withdrawal, fields=amount:833.02)\n",
      "Point(time=2023-03-07T10:28:00+00:00, measurement=transactions, tags=location:Zurich; account_id:4446; currency:EUR; transaction_type:deposit, fields=amount:4610.3)\n",
      "Point(time=2023-03-07T16:32:00+00:00, measurement=transactions, tags=location:Zurich; account_id:5593; currency:USD; transaction_type:withdrawal, fields=amount:4733.55)\n",
      "Point(time=2023-03-08T14:20:00+00:00, measurement=transactions, tags=location:Zurich; account_id:8212; currency:USD; transaction_type:withdrawal, fields=amount:2899.59)\n",
      "Point(time=2023-03-09T00:56:00+00:00, measurement=transactions, tags=location:Zurich; account_id:3481; currency:USD; transaction_type:deposit, fields=amount:543.66)\n",
      "Point(time=2023-03-09T01:28:00+00:00, measurement=transactions, tags=location:Zurich; account_id:2190; currency:USD; transaction_type:withdrawal, fields=amount:2562.28)\n",
      "Point(time=2023-03-09T01:38:00+00:00, measurement=transactions, tags=location:Zurich; account_id:5040; currency:CHF; transaction_type:transfer, fields=amount:4858.53)\n",
      "Point(time=2023-03-09T08:28:00+00:00, measurement=transactions, tags=location:Zurich; account_id:6079; currency:USD; transaction_type:withdrawal, fields=amount:3549.36)\n",
      "Point(time=2023-03-09T08:46:00+00:00, measurement=transactions, tags=location:Zurich; account_id:1821; currency:USD; transaction_type:deposit, fields=amount:3744.43)\n",
      "Point(time=2023-03-09T13:22:00+00:00, measurement=transactions, tags=location:Zurich; account_id:6670; currency:EUR; transaction_type:withdrawal, fields=amount:1075.94)\n",
      "Point(time=2023-03-09T18:39:00+00:00, measurement=transactions, tags=location:Zurich; account_id:4009; currency:USD; transaction_type:deposit, fields=amount:1246.52)\n",
      "Point(time=2023-03-10T03:04:00+00:00, measurement=transactions, tags=location:Zurich; account_id:4694; currency:EUR; transaction_type:deposit, fields=amount:1518.14)\n",
      "Point(time=2023-03-10T04:17:00+00:00, measurement=transactions, tags=location:Zurich; account_id:9498; currency:EUR; transaction_type:deposit, fields=amount:3330.7)\n",
      "Point(time=2023-03-10T09:16:00+00:00, measurement=transactions, tags=location:Zurich; account_id:8123; currency:CHF; transaction_type:withdrawal, fields=amount:4379.82)\n",
      "Point(time=2023-03-10T20:56:00+00:00, measurement=transactions, tags=location:Zurich; account_id:1378; currency:USD; transaction_type:deposit, fields=amount:3012.07)\n",
      "Point(time=2023-03-10T22:17:00+00:00, measurement=transactions, tags=location:Zurich; account_id:5813; currency:USD; transaction_type:transfer, fields=amount:4077.04)\n",
      "Point(time=2023-03-11T00:52:00+00:00, measurement=transactions, tags=location:Zurich; account_id:1752; currency:EUR; transaction_type:deposit, fields=amount:3523.26)\n",
      "Point(time=2023-03-11T02:25:00+00:00, measurement=transactions, tags=location:Zurich; account_id:9936; currency:EUR; transaction_type:withdrawal, fields=amount:4716.2)\n",
      "Point(time=2023-03-11T06:50:00+00:00, measurement=transactions, tags=location:Zurich; account_id:5541; currency:CHF; transaction_type:transfer, fields=amount:4169.63)\n"
     ]
    }
   ],
   "source": [
    "# Search for a tag value\n",
    "Tag = TagQuery()\n",
    "tag_results = db.search(Tag.location == 'Zurich')\n",
    "print(\"Tag Query Results:\")\n",
    "for result in tag_results:\n",
    "    print(result)"
   ]
  },
  {
   "cell_type": "code",
   "execution_count": null,
   "metadata": {},
   "outputs": [],
   "source": []
  }
 ],
 "metadata": {
  "kernelspec": {
   "display_name": "Python 3 (ipykernel)",
   "language": "python",
   "name": "python3"
  },
  "language_info": {
   "codemirror_mode": {
    "name": "ipython",
    "version": 3
   },
   "file_extension": ".py",
   "mimetype": "text/x-python",
   "name": "python",
   "nbconvert_exporter": "python",
   "pygments_lexer": "ipython3",
   "version": "3.12.1"
  }
 },
 "nbformat": 4,
 "nbformat_minor": 4
}
